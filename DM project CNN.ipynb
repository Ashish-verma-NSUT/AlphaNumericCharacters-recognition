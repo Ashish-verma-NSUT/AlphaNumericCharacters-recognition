{
 "cells": [
  {
   "cell_type": "code",
   "execution_count": 1,
   "id": "0b4ee177",
   "metadata": {},
   "outputs": [],
   "source": [
    "import os\n",
    "from pathlib import Path\n",
    "from keras.preprocessing import image\n",
    "import matplotlib.pyplot as plt\n",
    "import pandas as pd\n",
    "import numpy as np\n",
    "from keras.models import Sequential\n",
    "from keras.layers import Input, Convolution2D, MaxPooling2D, Flatten, Dense, Dropout\n",
    "from keras.utils import np_utils\n",
    "import tensorflow as tf"
   ]
  },
  {
   "cell_type": "code",
   "execution_count": 2,
   "id": "01afc7af",
   "metadata": {},
   "outputs": [
    {
     "name": "stdout",
     "output_type": "stream",
     "text": [
      "175\n",
      "125\n",
      "155\n",
      "155\n",
      "155\n",
      "160\n",
      "170\n",
      "155\n",
      "165\n",
      "170\n",
      "160\n",
      "160\n",
      "160\n",
      "140\n",
      "160\n",
      "160\n",
      "160\n",
      "155\n",
      "160\n",
      "160\n",
      "160\n",
      "160\n",
      "160\n",
      "160\n",
      "160\n",
      "160\n",
      "279\n",
      "160\n",
      "160\n",
      "160\n",
      "160\n",
      "160\n",
      "156\n",
      "170\n",
      "160\n",
      "160\n"
     ]
    }
   ],
   "source": [
    "p = Path(\"./smallDataset/\")\n",
    "dirs = p.glob(\"*\")\n",
    "\n",
    "image_data = []\n",
    "labels = []\n",
    "labels_dict = {}\n",
    "c = 0;\n",
    "for folder_dir in dirs:\n",
    "    label = str(folder_dir).split(\"\\\\\")[-1]\n",
    "    labels_dict[label] = c\n",
    "    c+=1\n",
    "    \n",
    "    cnt = 0\n",
    "    for img_path in folder_dir.glob(\"*.jpg\"):\n",
    "        img = image.load_img(img_path,target_size=(28,28))\n",
    "        img_array = image.img_to_array(img)\n",
    "        image_data.append(img_array)\n",
    "        labels.append(labels_dict[label])\n",
    "        cnt+=1\n",
    "    print(cnt)"
   ]
  },
  {
   "cell_type": "code",
   "execution_count": 49,
   "id": "7c273e93",
   "metadata": {},
   "outputs": [],
   "source": [
    "X = np.array(image_data)\n",
    "Y = np.array(labels)"
   ]
  },
  {
   "cell_type": "code",
   "execution_count": 50,
   "id": "38fdcb96",
   "metadata": {},
   "outputs": [],
   "source": [
    "from sklearn.utils import shuffle\n",
    "X,Y = shuffle(X,Y,random_state=2)\n",
    "X = X/255.0\n"
   ]
  },
  {
   "cell_type": "code",
   "execution_count": 51,
   "id": "3fe82141",
   "metadata": {},
   "outputs": [],
   "source": [
    "# def drawImg(img, label):\n",
    "#     print(img.shape)\n",
    "#     plt.imshow(img, cmap = 'gray')\n",
    "#     plt.show()"
   ]
  },
  {
   "cell_type": "code",
   "execution_count": 52,
   "id": "2d35c937",
   "metadata": {},
   "outputs": [],
   "source": [
    "# for i in range(10):\n",
    "#     r= np.random.randint(5000)\n",
    "#     drawImg(X[r],Y[r])"
   ]
  },
  {
   "cell_type": "code",
   "execution_count": 53,
   "id": "c5b67496",
   "metadata": {},
   "outputs": [
    {
     "name": "stdout",
     "output_type": "stream",
     "text": [
      "(4580, 28, 28, 3)\n",
      "(4580, 36)\n"
     ]
    }
   ],
   "source": [
    "split = int(X.shape[0]*.8)\n",
    "X_ = np.array(X)\n",
    "Y_ = np.array(Y)\n",
    "\n",
    "X = X_[:split,:]\n",
    "Y = Y_[:split]\n",
    "XTest = X_[split:,:]\n",
    "YTest = Y_[split:]\n",
    "print(X.shape)\n",
    "Y = np_utils.to_categorical(Y)\n",
    "YTest = Y_[split:]\n",
    "print(Y.shape)\n",
    "\n",
    "# print(XTest.shape)"
   ]
  },
  {
   "cell_type": "code",
   "execution_count": 54,
   "id": "2f755837",
   "metadata": {},
   "outputs": [
    {
     "name": "stdout",
     "output_type": "stream",
     "text": [
      "Model: \"sequential_1\"\n",
      "_________________________________________________________________\n",
      " Layer (type)                Output Shape              Param #   \n",
      "=================================================================\n",
      " conv2d_4 (Conv2D)           (None, 26, 26, 32)        896       \n",
      "                                                                 \n",
      " conv2d_5 (Conv2D)           (None, 24, 24, 64)        18496     \n",
      "                                                                 \n",
      " dropout_1 (Dropout)         (None, 24, 24, 64)        0         \n",
      "                                                                 \n",
      " max_pooling2d_1 (MaxPooling  (None, 12, 12, 64)       0         \n",
      " 2D)                                                             \n",
      "                                                                 \n",
      " conv2d_6 (Conv2D)           (None, 8, 8, 32)          51232     \n",
      "                                                                 \n",
      " conv2d_7 (Conv2D)           (None, 4, 4, 8)           6408      \n",
      "                                                                 \n",
      " flatten_1 (Flatten)         (None, 128)               0         \n",
      "                                                                 \n",
      " dense_1 (Dense)             (None, 36)                4644      \n",
      "                                                                 \n",
      "=================================================================\n",
      "Total params: 81,676\n",
      "Trainable params: 81,676\n",
      "Non-trainable params: 0\n",
      "_________________________________________________________________\n"
     ]
    }
   ],
   "source": [
    "model = Sequential()\n",
    "model.add(Convolution2D(32,(3,3),activation = 'relu', input_shape=(28,28,3)))\n",
    "model.add(Convolution2D(64,(3,3),activation = 'relu'))\n",
    "model.add(Dropout(0.25))\n",
    "model.add(MaxPooling2D(2,2))\n",
    "model.add(Convolution2D(32,(5,5), activation = 'relu'))\n",
    "model.add(Convolution2D(8,(5,5), activation = 'relu'))\n",
    "model.add(Flatten())\n",
    "model.add(Dense(36,activation = 'softmax'))\n",
    "model.summary()"
   ]
  },
  {
   "cell_type": "code",
   "execution_count": 55,
   "id": "1b2a2b92",
   "metadata": {},
   "outputs": [],
   "source": [
    "model.compile(loss='categorical_crossentropy', optimizer = 'adam', metrics = ['accuracy'])"
   ]
  },
  {
   "cell_type": "code",
   "execution_count": 56,
   "id": "2041a3a5",
   "metadata": {},
   "outputs": [
    {
     "name": "stdout",
     "output_type": "stream",
     "text": [
      "Epoch 1/20\n",
      "15/15 [==============================] - 12s 657ms/step - loss: 3.4202 - accuracy: 0.0764 - val_loss: 3.1516 - val_accuracy: 0.1932\n",
      "Epoch 2/20\n",
      "15/15 [==============================] - 9s 627ms/step - loss: 2.6119 - accuracy: 0.3008 - val_loss: 2.1786 - val_accuracy: 0.4225\n",
      "Epoch 3/20\n",
      "15/15 [==============================] - 10s 635ms/step - loss: 1.5844 - accuracy: 0.5767 - val_loss: 1.3690 - val_accuracy: 0.6845\n",
      "Epoch 4/20\n",
      "15/15 [==============================] - 10s 642ms/step - loss: 0.9904 - accuracy: 0.7383 - val_loss: 1.0013 - val_accuracy: 0.7795\n",
      "Epoch 5/20\n",
      "15/15 [==============================] - 10s 632ms/step - loss: 0.7198 - accuracy: 0.8141 - val_loss: 0.7895 - val_accuracy: 0.8144\n",
      "Epoch 6/20\n",
      "15/15 [==============================] - 9s 628ms/step - loss: 0.5712 - accuracy: 0.8458 - val_loss: 0.7053 - val_accuracy: 0.8253\n",
      "Epoch 7/20\n",
      "15/15 [==============================] - 9s 621ms/step - loss: 0.4685 - accuracy: 0.8753 - val_loss: 0.6188 - val_accuracy: 0.8461\n",
      "Epoch 8/20\n",
      "15/15 [==============================] - 10s 656ms/step - loss: 0.3946 - accuracy: 0.8941 - val_loss: 0.5368 - val_accuracy: 0.8777\n",
      "Epoch 9/20\n",
      "15/15 [==============================] - 10s 679ms/step - loss: 0.3169 - accuracy: 0.9143 - val_loss: 0.5139 - val_accuracy: 0.8766\n",
      "Epoch 10/20\n",
      "15/15 [==============================] - 10s 672ms/step - loss: 0.2773 - accuracy: 0.9252 - val_loss: 0.4679 - val_accuracy: 0.8843\n",
      "Epoch 11/20\n",
      "15/15 [==============================] - 9s 606ms/step - loss: 0.2462 - accuracy: 0.9337 - val_loss: 0.4190 - val_accuracy: 0.8886\n",
      "Epoch 12/20\n",
      "15/15 [==============================] - 9s 620ms/step - loss: 0.2253 - accuracy: 0.9386 - val_loss: 0.4109 - val_accuracy: 0.9017\n",
      "Epoch 13/20\n",
      "15/15 [==============================] - 9s 609ms/step - loss: 0.1800 - accuracy: 0.9539 - val_loss: 0.3793 - val_accuracy: 0.9138\n",
      "Epoch 14/20\n",
      "15/15 [==============================] - 10s 685ms/step - loss: 0.1545 - accuracy: 0.9585 - val_loss: 0.3359 - val_accuracy: 0.9236\n",
      "Epoch 15/20\n",
      "15/15 [==============================] - 10s 654ms/step - loss: 0.1246 - accuracy: 0.9675 - val_loss: 0.3122 - val_accuracy: 0.9138\n",
      "Epoch 16/20\n",
      "15/15 [==============================] - 10s 672ms/step - loss: 0.1189 - accuracy: 0.9692 - val_loss: 0.3260 - val_accuracy: 0.9138\n",
      "Epoch 17/20\n",
      "15/15 [==============================] - 10s 660ms/step - loss: 0.1238 - accuracy: 0.9634 - val_loss: 0.2913 - val_accuracy: 0.9192\n",
      "Epoch 18/20\n",
      "15/15 [==============================] - 10s 639ms/step - loss: 0.0872 - accuracy: 0.9765 - val_loss: 0.3128 - val_accuracy: 0.9225\n",
      "Epoch 19/20\n",
      "15/15 [==============================] - 10s 637ms/step - loss: 0.0672 - accuracy: 0.9831 - val_loss: 0.2990 - val_accuracy: 0.9192\n",
      "Epoch 20/20\n",
      "15/15 [==============================] - 10s 652ms/step - loss: 0.0613 - accuracy: 0.9853 - val_loss: 0.2899 - val_accuracy: 0.9269\n"
     ]
    }
   ],
   "source": [
    "hist = model.fit(X, Y, epochs = 20, shuffle = True, batch_size = 256, validation_split = 0.20)"
   ]
  },
  {
   "cell_type": "code",
   "execution_count": 57,
   "id": "415c0291",
   "metadata": {},
   "outputs": [
    {
     "data": {
      "image/png": "[encoded data removed]",
      "text/plain": [
       "<Figure size 576x396 with 1 Axes>"
      ]
     },
     "metadata": {},
     "output_type": "display_data"
    },
    {
     "data": {
      "image/png": "[encoded data removed]",
      "text/plain": [
       "<Figure size 576x396 with 1 Axes>"
      ]
     },
     "metadata": {},
     "output_type": "display_data"
    }
   ],
   "source": [
    "# plt.figure(0)\n",
    "plt.style.use(\"seaborn\")\n",
    "plt.plot(hist.history['loss'],label = \"loss\")\n",
    "# plt.plot(hist.history['val_loss'], 'b', label = \"value loss\")\n",
    "plt.savefig(\"CNN loss\")\n",
    "plt.show()\n",
    "plt.plot(hist.history['accuracy'],'red', label= 'Accuracy')\n",
    "# plt.plot(hist.history['val_accuracy'], 'black', label = 'Value Accuracy')\n",
    "plt.savefig(\"CNN acc\")\n",
    "plt.show()"
   ]
  },
  {
   "cell_type": "code",
   "execution_count": 58,
   "id": "3f610522",
   "metadata": {},
   "outputs": [
    {
     "data": {
      "text/plain": [
       "(1146,)"
      ]
     },
     "execution_count": 58,
     "metadata": {},
     "output_type": "execute_result"
    }
   ],
   "source": [
    "YPredict = model.predict(XTest)\n",
    "YPredict_train = model.predict(X)\n",
    "# print(YPredict.shape)\n",
    "\n",
    "# print(Y.shape[0])\n",
    "# print(YTest.shape)\n",
    "# print(YPredict)\n",
    "YTest.shape\n",
    "# Y.shape"
   ]
  },
  {
   "cell_type": "code",
   "execution_count": 59,
   "id": "7f8ed56a",
   "metadata": {},
   "outputs": [],
   "source": [
    "\n",
    "s = 0"
   ]
  },
  {
   "cell_type": "code",
   "execution_count": 60,
   "id": "a3715804",
   "metadata": {},
   "outputs": [],
   "source": [
    "array = np.zeros((36,36), dtype = np.int64)\n",
    "\n",
    "for i in range(YPredict.shape[0]):\n",
    "    idx = np.argmax(YPredict[i])\n",
    "    if(YTest[i] == idx):\n",
    "        s+=1\n",
    "#     l = label\n",
    "\n",
    "    array[YTest[i]][idx]+=1"
   ]
  },
  {
   "cell_type": "code",
   "execution_count": 61,
   "id": "9c82edf2",
   "metadata": {},
   "outputs": [
    {
     "name": "stdout",
     "output_type": "stream",
     "text": [
      "0.9258289703315882\n"
     ]
    }
   ],
   "source": [
    "acc = s/YTest.shape[0]\n",
    "print(acc)"
   ]
  },
  {
   "cell_type": "code",
   "execution_count": 62,
   "id": "0901b70e",
   "metadata": {},
   "outputs": [],
   "source": [
    "s = 0\n",
    "for i in range(Y.shape[0]):\n",
    "    idx = np.argmax(YPredict_train[i])\n",
    "    if Y[i][0] == idx :\n",
    "        s+=1\n",
    "    "
   ]
  },
  {
   "cell_type": "code",
   "execution_count": 63,
   "id": "744b8b82",
   "metadata": {},
   "outputs": [
    {
     "name": "stdout",
     "output_type": "stream",
     "text": [
      "0.0058951965065502186\n"
     ]
    }
   ],
   "source": [
    "acc = s/Y.shape[0]\n",
    "print(acc)"
   ]
  },
  {
   "cell_type": "code",
   "execution_count": 64,
   "id": "05d5e625",
   "metadata": {},
   "outputs": [],
   "source": [
    "import seaborn as sns"
   ]
  },
  {
   "cell_type": "code",
   "execution_count": 65,
   "id": "523a2f27",
   "metadata": {},
   "outputs": [
    {
     "data": {
      "image/png": "[encoded data removed]",
      "text/plain": [
       "<Figure size 576x396 with 2 Axes>"
      ]
     },
     "metadata": {},
     "output_type": "display_data"
    }
   ],
   "source": [
    "hm = sns.heatmap(array)\n",
    "fig = hm.get_figure()\n",
    "fig.savefig(\"CNN heatmap\")"
   ]
  },
  {
   "cell_type": "code",
   "execution_count": null,
   "id": "24774365",
   "metadata": {},
   "outputs": [],
   "source": []
  },
  {
   "cell_type": "code",
   "execution_count": null,
   "id": "a0531745",
   "metadata": {},
   "outputs": [],
   "source": []
  },
  {
   "cell_type": "code",
   "execution_count": null,
   "id": "d098e5b1",
   "metadata": {},
   "outputs": [],
   "source": []
  },
  {
   "cell_type": "code",
   "execution_count": null,
   "id": "a1820924",
   "metadata": {},
   "outputs": [],
   "source": []
  }
 ],
 "metadata": {
  "kernelspec": {
   "display_name": "Python 3.10.5 64-bit",
   "language": "python",
   "name": "python3"
  },
  "language_info": {
   "codemirror_mode": {
    "name": "ipython",
    "version": 3
   },
   "file_extension": ".py",
   "mimetype": "text/x-python",
   "name": "python",
   "nbconvert_exporter": "python",
   "pygments_lexer": "ipython3",
   "version": "3.10.5"
  },
  "vscode": {
   "interpreter": {
    "hash": "a5b785620d25e942ddf58402fc20732401cbbfc76e858e4965562df49a830553"
   }
  }
 },
 "nbformat": 4,
 "nbformat_minor": 5
}

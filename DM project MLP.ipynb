{
 "cells": [
  {
   "cell_type": "code",
   "execution_count": 1,
   "id": "0485a133",
   "metadata": {},
   "outputs": [],
   "source": [
    "import os\n",
    "from pathlib import Path\n",
    "from keras.preprocessing import image\n",
    "import matplotlib.pyplot as plt\n",
    "import numpy as np\n",
    "import matplotlib.pyplot as plt"
   ]
  },
  {
   "cell_type": "code",
   "execution_count": 2,
   "id": "f84238e4",
   "metadata": {},
   "outputs": [
    {
     "name": "stdout",
     "output_type": "stream",
     "text": [
      "120\n",
      "125\n",
      "155\n",
      "155\n",
      "155\n",
      "160\n",
      "170\n",
      "155\n",
      "165\n",
      "170\n",
      "160\n",
      "160\n",
      "160\n",
      "140\n",
      "160\n",
      "160\n",
      "160\n",
      "155\n",
      "160\n",
      "160\n",
      "160\n",
      "160\n",
      "160\n",
      "160\n",
      "160\n",
      "160\n",
      "160\n",
      "160\n",
      "160\n",
      "160\n",
      "160\n",
      "160\n",
      "156\n",
      "170\n",
      "160\n",
      "160\n"
     ]
    }
   ],
   "source": [
    "p = Path(\"./smallDataset/\")\n",
    "dirs = p.glob(\"*\")\n",
    "\n",
    "image_data = []\n",
    "labels = []\n",
    "labels_dict = {}\n",
    "c = 0;\n",
    "\n",
    "for folder_dir in dirs:\n",
    "    label = str(folder_dir).split(\"\\\\\")[-1]\n",
    "    labels_dict[label] = c\n",
    "    c+=1\n",
    "    \n",
    "    cnt = 0\n",
    "    for img_path in folder_dir.glob(\"*.jpg\"):\n",
    "        img = image.load_img(img_path,target_size=(28,28))\n",
    "        img_array = image.img_to_array(img)\n",
    "        image_data.append(img_array)\n",
    "        labels.append(labels_dict[label])\n",
    "        cnt+=1\n",
    "    print(cnt)"
   ]
  },
  {
   "cell_type": "code",
   "execution_count": 3,
   "id": "6f4ddd42",
   "metadata": {},
   "outputs": [
    {
     "name": "stdout",
     "output_type": "stream",
     "text": [
      "(5671, 28, 28, 3)\n"
     ]
    }
   ],
   "source": [
    "X = np.array(image_data)\n",
    "Y = np.array(labels)\n",
    "\n",
    "from sklearn.utils import shuffle\n",
    "X,Y = shuffle(X,Y,random_state=2)\n",
    "X = X/255.0\n",
    "print(X.shape)"
   ]
  },
  {
   "cell_type": "code",
   "execution_count": 4,
   "id": "b89a47a6",
   "metadata": {},
   "outputs": [],
   "source": [
    "split = int(X.shape[0]*.8)\n",
    "X_ = np.array(X)\n",
    "Y_ = np.array(Y)\n",
    "\n",
    "X = X_[:split,:]\n",
    "Y = Y_[:split]\n",
    "XTest = X_[split:,:]\n",
    "YTest = Y_[split:]"
   ]
  },
  {
   "cell_type": "code",
   "execution_count": 5,
   "id": "1c1d82cc",
   "metadata": {},
   "outputs": [],
   "source": [
    "def softmax(a):\n",
    "    ea = np.exp(a)\n",
    "    ans = ea/np.sum(ea, axis = 1, keepdims = True)\n",
    "    return ans\n"
   ]
  },
  {
   "cell_type": "code",
   "execution_count": 6,
   "id": "ddebcc8a",
   "metadata": {},
   "outputs": [],
   "source": [
    "class NeuralNetwork:\n",
    "    def __init__(self, input_size, layers, output_size):\n",
    "        \n",
    "        np.random.seed(0)\n",
    "        \n",
    "        model = {}\n",
    "        model['w1'] = np.random.randn(input_size, layers[0])\n",
    "        model['b1'] = np.zeros((1,layers[0]))\n",
    "        model['w2'] = np.random.randn(layers[0], layers[1])\n",
    "        model['b2'] = np.zeros((1,layers[1]))\n",
    "        model['w3'] = np.random.randn(layers[1], output_size)\n",
    "        model['b3'] = np.zeros((1,output_size))\n",
    "        self.model = model \n",
    "        \n",
    "    def forward(self, x):\n",
    "        w1,w2,w3 = self.model['w1'], self.model['w2'], self.model['w3']\n",
    "        b1,b2,b3 = self.model['b1'], self.model['b2'], self.model['b3']\n",
    "        z1 = np.dot(x,w1) + b1\n",
    "        a1 = np.tanh(z1)\n",
    "        z2 = np.dot(a1, w2) + b2\n",
    "        a2 = np.tanh(z2)\n",
    "        z3 = np.dot(a2, w3) + b3\n",
    "        y_ = softmax(z3)\n",
    "        self.activation_outputs = (a1, a2, y_)\n",
    "        return y_\n",
    "    \n",
    "    def backward(self, x, y, learning_rate = 0.001):\n",
    "        w1,w2,w3 = self.model['w1'], self.model['w2'], self.model['w3']\n",
    "        b1,b2,b3 = self.model['b1'], self.model['b2'], self.model['b3']\n",
    "        m = y.shape[0]\n",
    "        \n",
    "        a1, a2, y_ = self.activation_outputs\n",
    "        delta3 = y_ - y\n",
    "        dw3 = np.dot(a2.T, delta3)\n",
    "        db3 = np.sum(delta3, axis = 0)\n",
    "        \n",
    "        delta2 = (1- np.square(a2))*np.dot(delta3, w3.T)\n",
    "        dw2 = np.dot(a1.T, delta2)\n",
    "        db2 = np.sum(delta2, axis = 0)\n",
    "        \n",
    "        delta1 = (1-np.square(a1))*np.dot(delta2, w2.T)\n",
    "        dw1 = np.dot(x.T, delta1)\n",
    "        db1 = np.sum(delta1 , axis = 0)\n",
    "        self.model['w1'] -= learning_rate*dw1\n",
    "        self.model['b1'] -= learning_rate*db1\n",
    "        self.model['w2'] -= learning_rate*dw2\n",
    "        self.model['b2'] -= learning_rate*db2\n",
    "        self.model['w3'] -= learning_rate*dw3\n",
    "        self.model['b3'] -= learning_rate*db3\n",
    "    \n",
    "    def predict(self, x):\n",
    "        y_out = self.forward(x)\n",
    "        return np.argmax(y_out, axis = 1)\n",
    "    \n",
    "    def summary(self):\n",
    "        w1,w2,w3 = self.model['w1'], self.model['w2'], self.model['w3']\n",
    "        \n",
    "        a1,a2,y_ = self.activation_outputs\n",
    "        print('w1 ', w1.shape)\n",
    "        print('a1 ', a1.shape)\n",
    "        print('w2 ', w2.shape)\n",
    "        print('a2 ', a2.shape)\n",
    "        print('w3 ', w3.shape)\n",
    "        print('y_ ', y_.shape)\n",
    "    "
   ]
  },
  {
   "cell_type": "code",
   "execution_count": 7,
   "id": "1cc000ab",
   "metadata": {},
   "outputs": [],
   "source": [
    "def loss(y_hot, p):\n",
    "    l = -np.mean(y_hot*np.log(p))\n",
    "    return l\n",
    "def one_hot(y,depth):\n",
    "    m = y.shape[0]\n",
    "    y_hot = np.zeros((m,depth))\n",
    "    y_hot[np.arange(m), y] = 1\n",
    "    return y_hot"
   ]
  },
  {
   "cell_type": "code",
   "execution_count": 8,
   "id": "d7a1e567",
   "metadata": {},
   "outputs": [],
   "source": [
    "def train(x,y,model,epochs, learning_rate, logs = True):\n",
    "    training_loss = []\n",
    "    classes = 36\n",
    "    y_hot = one_hot(y,classes)\n",
    "    \n",
    "    for i in range(epochs):\n",
    "        y_ = model.forward(x)\n",
    "        l = loss(y_hot, y_)\n",
    "        training_loss.append(l)\n",
    "        model.backward(x,y_hot,learning_rate)\n",
    "        if(logs):\n",
    "            print(\"Epoch %d loss %.4f\"%(i,l))\n",
    "    return training_loss"
   ]
  },
  {
   "cell_type": "code",
   "execution_count": 9,
   "id": "d0e77bbb",
   "metadata": {},
   "outputs": [],
   "source": [
    "model = NeuralNetwork(input_size = 2352, layers = [100,50], output_size = 36)"
   ]
  },
  {
   "cell_type": "code",
   "execution_count": 10,
   "id": "6b49bd18",
   "metadata": {},
   "outputs": [],
   "source": [
    "X = X.reshape(X.shape[0],-1)\n",
    "XTest = XTest.reshape(XTest.shape[0], -1)\n"
   ]
  },
  {
   "cell_type": "code",
   "execution_count": 11,
   "id": "8d2b65da",
   "metadata": {},
   "outputs": [
    {
     "name": "stdout",
     "output_type": "stream",
     "text": [
      "Epoch 0 loss 0.4172\n",
      "Epoch 1 loss 0.3067\n",
      "Epoch 2 loss 0.2988\n",
      "Epoch 3 loss 0.3441\n",
      "Epoch 4 loss 0.3282\n",
      "Epoch 5 loss 0.2923\n",
      "Epoch 6 loss 0.3017\n",
      "Epoch 7 loss 0.2984\n",
      "Epoch 8 loss 0.2754\n",
      "Epoch 9 loss 0.2606\n",
      "Epoch 10 loss 0.2613\n",
      "Epoch 11 loss 0.2782\n",
      "Epoch 12 loss 0.2752\n",
      "Epoch 13 loss 0.2742\n",
      "Epoch 14 loss 0.2689\n",
      "Epoch 15 loss 0.2659\n",
      "Epoch 16 loss 0.2493\n",
      "Epoch 17 loss 0.2312\n",
      "Epoch 18 loss 0.1971\n",
      "Epoch 19 loss 0.1697\n",
      "Epoch 20 loss 0.1470\n",
      "Epoch 21 loss 0.1215\n",
      "Epoch 22 loss 0.0997\n",
      "Epoch 23 loss 0.0961\n",
      "Epoch 24 loss 0.1028\n",
      "Epoch 25 loss 0.0867\n",
      "Epoch 26 loss 0.0774\n",
      "Epoch 27 loss 0.0787\n",
      "Epoch 28 loss 0.0790\n",
      "Epoch 29 loss 0.0668\n",
      "Epoch 30 loss 0.0560\n",
      "Epoch 31 loss 0.0509\n",
      "Epoch 32 loss 0.0445\n",
      "Epoch 33 loss 0.0404\n",
      "Epoch 34 loss 0.0432\n",
      "Epoch 35 loss 0.0385\n",
      "Epoch 36 loss 0.0367\n",
      "Epoch 37 loss 0.0324\n",
      "Epoch 38 loss 0.0337\n",
      "Epoch 39 loss 0.0294\n",
      "Epoch 40 loss 0.0269\n",
      "Epoch 41 loss 0.0258\n",
      "Epoch 42 loss 0.0254\n",
      "Epoch 43 loss 0.0254\n",
      "Epoch 44 loss 0.0208\n",
      "Epoch 45 loss 0.0199\n",
      "Epoch 46 loss 0.0169\n",
      "Epoch 47 loss 0.0156\n",
      "Epoch 48 loss 0.0152\n",
      "Epoch 49 loss 0.0147\n",
      "Epoch 50 loss 0.0139\n",
      "Epoch 51 loss 0.0126\n",
      "Epoch 52 loss 0.0120\n",
      "Epoch 53 loss 0.0118\n",
      "Epoch 54 loss 0.0118\n",
      "Epoch 55 loss 0.0111\n",
      "Epoch 56 loss 0.0101\n",
      "Epoch 57 loss 0.0099\n",
      "Epoch 58 loss 0.0102\n",
      "Epoch 59 loss 0.0100\n",
      "Epoch 60 loss 0.0099\n",
      "Epoch 61 loss 0.0089\n",
      "Epoch 62 loss 0.0080\n",
      "Epoch 63 loss 0.0078\n",
      "Epoch 64 loss 0.0080\n",
      "Epoch 65 loss 0.0078\n",
      "Epoch 66 loss 0.0074\n",
      "Epoch 67 loss 0.0071\n",
      "Epoch 68 loss 0.0070\n",
      "Epoch 69 loss 0.0062\n",
      "Epoch 70 loss 0.0063\n",
      "Epoch 71 loss 0.0065\n",
      "Epoch 72 loss 0.0066\n",
      "Epoch 73 loss 0.0059\n",
      "Epoch 74 loss 0.0069\n",
      "Epoch 75 loss 0.0060\n",
      "Epoch 76 loss 0.0058\n",
      "Epoch 77 loss 0.0056\n",
      "Epoch 78 loss 0.0051\n",
      "Epoch 79 loss 0.0053\n",
      "Epoch 80 loss 0.0047\n",
      "Epoch 81 loss 0.0047\n",
      "Epoch 82 loss 0.0048\n",
      "Epoch 83 loss 0.0051\n",
      "Epoch 84 loss 0.0049\n",
      "Epoch 85 loss 0.0046\n",
      "Epoch 86 loss 0.0041\n",
      "Epoch 87 loss 0.0042\n",
      "Epoch 88 loss 0.0038\n",
      "Epoch 89 loss 0.0036\n",
      "Epoch 90 loss 0.0033\n",
      "Epoch 91 loss 0.0033\n",
      "Epoch 92 loss 0.0030\n",
      "Epoch 93 loss 0.0030\n",
      "Epoch 94 loss 0.0028\n",
      "Epoch 95 loss 0.0027\n",
      "Epoch 96 loss 0.0026\n",
      "Epoch 97 loss 0.0026\n",
      "Epoch 98 loss 0.0025\n",
      "Epoch 99 loss 0.0025\n"
     ]
    }
   ],
   "source": [
    "l = train(X,Y,model,100, 0.002)"
   ]
  },
  {
   "cell_type": "code",
   "execution_count": 12,
   "id": "41b0d476",
   "metadata": {},
   "outputs": [
    {
     "data": {
      "image/png": "[encoded data removed]",
      "text/plain": [
       "<Figure size 432x288 with 1 Axes>"
      ]
     },
     "metadata": {},
     "output_type": "display_data"
    }
   ],
   "source": [
    "plt.style.use(\"dark_background\")\n",
    "plt.title(\"Training Loss vs Epochs\")\n",
    "plt.plot(l)\n",
    "plt.savefig(\"MLP Loss function\")\n",
    "plt.show()"
   ]
  },
  {
   "cell_type": "code",
   "execution_count": 13,
   "id": "b551438b",
   "metadata": {},
   "outputs": [
    {
     "name": "stdout",
     "output_type": "stream",
     "text": [
      "Train Acc 0.9866\n",
      "Test Acc 0.7718\n"
     ]
    }
   ],
   "source": [
    "def getAccuracy(X,Y,model):\n",
    "    outputs = model.predict(X)\n",
    "    acc = np.sum(outputs == Y)/Y.shape[0]\n",
    "    return acc\n",
    "print(\"Train Acc %.4f\"%getAccuracy(X,Y,model))\n",
    "print(\"Test Acc %.4f\"%getAccuracy(XTest,YTest,model))"
   ]
  },
  {
   "cell_type": "code",
   "execution_count": 14,
   "id": "d6263bb3",
   "metadata": {},
   "outputs": [],
   "source": [
    "outputs = model.predict(XTest)"
   ]
  },
  {
   "cell_type": "code",
   "execution_count": 15,
   "id": "37d4fc09",
   "metadata": {},
   "outputs": [],
   "source": [
    "# print(outputs.shape)"
   ]
  },
  {
   "cell_type": "code",
   "execution_count": 16,
   "id": "01511502",
   "metadata": {},
   "outputs": [],
   "source": [
    "array = np.zeros((36,36), dtype = np.int64)"
   ]
  },
  {
   "cell_type": "code",
   "execution_count": 17,
   "id": "99349a04",
   "metadata": {},
   "outputs": [],
   "source": [
    "for i in range(outputs.shape[0]):\n",
    "    array[YTest[i]][outputs[i]]+=1\n",
    "\n"
   ]
  },
  {
   "cell_type": "code",
   "execution_count": 18,
   "id": "d0b96568",
   "metadata": {},
   "outputs": [],
   "source": [
    "import seaborn as sns"
   ]
  },
  {
   "cell_type": "code",
   "execution_count": 19,
   "id": "446f296e",
   "metadata": {},
   "outputs": [
    {
     "data": {
      "image/png": "[encoded data removed]",
      "text/plain": [
       "<Figure size 432x288 with 2 Axes>"
      ]
     },
     "metadata": {},
     "output_type": "display_data"
    }
   ],
   "source": [
    "hm = sns.heatmap(array)\n",
    "fig = hm.get_figure()\n",
    "fig.savefig(\"MLP heatmap\")"
   ]
  },
  {
   "cell_type": "code",
   "execution_count": null,
   "id": "ae7e7ab2",
   "metadata": {},
   "outputs": [],
   "source": []
  }
 ],
 "metadata": {
  "kernelspec": {
   "display_name": "Python 3 (ipykernel)",
   "language": "python",
   "name": "python3"
  },
  "language_info": {
   "codemirror_mode": {
    "name": "ipython",
    "version": 3
   },
   "file_extension": ".py",
   "mimetype": "text/x-python",
   "name": "python",
   "nbconvert_exporter": "python",
   "pygments_lexer": "ipython3",
   "version": "3.9.7"
  }
 },
 "nbformat": 4,
 "nbformat_minor": 5
}
